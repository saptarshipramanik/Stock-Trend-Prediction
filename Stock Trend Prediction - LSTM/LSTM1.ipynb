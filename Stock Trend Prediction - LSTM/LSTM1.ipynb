{
 "cells": [
  {
   "cell_type": "code",
   "execution_count": 5,
   "id": "dac03b16",
   "metadata": {},
   "outputs": [],
   "source": [
    "import numpy as np\n",
    "import pandas as pd\n",
    "import matplotlib.pyplot as plt\n",
    "import yfinance as yf"
   ]
  },
  {
   "cell_type": "code",
   "execution_count": 6,
   "id": "87fc6271",
   "metadata": {},
   "outputs": [],
   "source": [
    "stock_data = yf.Ticker(\"AAPL\")\n",
    "df = stock_data.history(start='2002-01-01', end='2022-12-31')"
   ]
  },
  {
   "cell_type": "code",
   "execution_count": 7,
   "id": "4940b8ee",
   "metadata": {},
   "outputs": [
    {
     "data": {
      "text/html": [
       "<div>\n",
       "<style scoped>\n",
       "    .dataframe tbody tr th:only-of-type {\n",
       "        vertical-align: middle;\n",
       "    }\n",
       "\n",
       "    .dataframe tbody tr th {\n",
       "        vertical-align: top;\n",
       "    }\n",
       "\n",
       "    .dataframe thead th {\n",
       "        text-align: right;\n",
       "    }\n",
       "</style>\n",
       "<table border=\"1\" class=\"dataframe\">\n",
       "  <thead>\n",
       "    <tr style=\"text-align: right;\">\n",
       "      <th></th>\n",
       "      <th>Open</th>\n",
       "      <th>High</th>\n",
       "      <th>Low</th>\n",
       "      <th>Close</th>\n",
       "      <th>Volume</th>\n",
       "      <th>Dividends</th>\n",
       "      <th>Stock Splits</th>\n",
       "    </tr>\n",
       "    <tr>\n",
       "      <th>Date</th>\n",
       "      <th></th>\n",
       "      <th></th>\n",
       "      <th></th>\n",
       "      <th></th>\n",
       "      <th></th>\n",
       "      <th></th>\n",
       "      <th></th>\n",
       "    </tr>\n",
       "  </thead>\n",
       "  <tbody>\n",
       "    <tr>\n",
       "      <th>2002-01-02 00:00:00-05:00</th>\n",
       "      <td>0.334665</td>\n",
       "      <td>0.353637</td>\n",
       "      <td>0.333299</td>\n",
       "      <td>0.353637</td>\n",
       "      <td>529496800</td>\n",
       "      <td>0.0</td>\n",
       "      <td>0.0</td>\n",
       "    </tr>\n",
       "    <tr>\n",
       "      <th>2002-01-03 00:00:00-05:00</th>\n",
       "      <td>0.349083</td>\n",
       "      <td>0.360467</td>\n",
       "      <td>0.345593</td>\n",
       "      <td>0.357886</td>\n",
       "      <td>612007200</td>\n",
       "      <td>0.0</td>\n",
       "      <td>0.0</td>\n",
       "    </tr>\n",
       "    <tr>\n",
       "      <th>2002-01-04 00:00:00-05:00</th>\n",
       "      <td>0.354244</td>\n",
       "      <td>0.363503</td>\n",
       "      <td>0.348932</td>\n",
       "      <td>0.359556</td>\n",
       "      <td>409976000</td>\n",
       "      <td>0.0</td>\n",
       "      <td>0.0</td>\n",
       "    </tr>\n",
       "    <tr>\n",
       "      <th>2002-01-07 00:00:00-05:00</th>\n",
       "      <td>0.360011</td>\n",
       "      <td>0.364261</td>\n",
       "      <td>0.345289</td>\n",
       "      <td>0.347566</td>\n",
       "      <td>444584000</td>\n",
       "      <td>0.0</td>\n",
       "      <td>0.0</td>\n",
       "    </tr>\n",
       "    <tr>\n",
       "      <th>2002-01-08 00:00:00-05:00</th>\n",
       "      <td>0.345289</td>\n",
       "      <td>0.349842</td>\n",
       "      <td>0.340887</td>\n",
       "      <td>0.343164</td>\n",
       "      <td>450038400</td>\n",
       "      <td>0.0</td>\n",
       "      <td>0.0</td>\n",
       "    </tr>\n",
       "  </tbody>\n",
       "</table>\n",
       "</div>"
      ],
      "text/plain": [
       "                               Open      High       Low     Close     Volume  \\\n",
       "Date                                                                           \n",
       "2002-01-02 00:00:00-05:00  0.334665  0.353637  0.333299  0.353637  529496800   \n",
       "2002-01-03 00:00:00-05:00  0.349083  0.360467  0.345593  0.357886  612007200   \n",
       "2002-01-04 00:00:00-05:00  0.354244  0.363503  0.348932  0.359556  409976000   \n",
       "2002-01-07 00:00:00-05:00  0.360011  0.364261  0.345289  0.347566  444584000   \n",
       "2002-01-08 00:00:00-05:00  0.345289  0.349842  0.340887  0.343164  450038400   \n",
       "\n",
       "                           Dividends  Stock Splits  \n",
       "Date                                                \n",
       "2002-01-02 00:00:00-05:00        0.0           0.0  \n",
       "2002-01-03 00:00:00-05:00        0.0           0.0  \n",
       "2002-01-04 00:00:00-05:00        0.0           0.0  \n",
       "2002-01-07 00:00:00-05:00        0.0           0.0  \n",
       "2002-01-08 00:00:00-05:00        0.0           0.0  "
      ]
     },
     "execution_count": 7,
     "metadata": {},
     "output_type": "execute_result"
    }
   ],
   "source": [
    "df.head()"
   ]
  },
  {
   "cell_type": "code",
   "execution_count": 8,
   "id": "be4aab15",
   "metadata": {},
   "outputs": [
    {
     "data": {
      "text/html": [
       "<div>\n",
       "<style scoped>\n",
       "    .dataframe tbody tr th:only-of-type {\n",
       "        vertical-align: middle;\n",
       "    }\n",
       "\n",
       "    .dataframe tbody tr th {\n",
       "        vertical-align: top;\n",
       "    }\n",
       "\n",
       "    .dataframe thead th {\n",
       "        text-align: right;\n",
       "    }\n",
       "</style>\n",
       "<table border=\"1\" class=\"dataframe\">\n",
       "  <thead>\n",
       "    <tr style=\"text-align: right;\">\n",
       "      <th></th>\n",
       "      <th>Date</th>\n",
       "      <th>Open</th>\n",
       "      <th>High</th>\n",
       "      <th>Low</th>\n",
       "      <th>Close</th>\n",
       "      <th>Volume</th>\n",
       "      <th>Dividends</th>\n",
       "      <th>Stock Splits</th>\n",
       "    </tr>\n",
       "  </thead>\n",
       "  <tbody>\n",
       "    <tr>\n",
       "      <th>0</th>\n",
       "      <td>2002-01-02 00:00:00-05:00</td>\n",
       "      <td>0.334665</td>\n",
       "      <td>0.353637</td>\n",
       "      <td>0.333299</td>\n",
       "      <td>0.353637</td>\n",
       "      <td>529496800</td>\n",
       "      <td>0.0</td>\n",
       "      <td>0.0</td>\n",
       "    </tr>\n",
       "    <tr>\n",
       "      <th>1</th>\n",
       "      <td>2002-01-03 00:00:00-05:00</td>\n",
       "      <td>0.349083</td>\n",
       "      <td>0.360467</td>\n",
       "      <td>0.345593</td>\n",
       "      <td>0.357886</td>\n",
       "      <td>612007200</td>\n",
       "      <td>0.0</td>\n",
       "      <td>0.0</td>\n",
       "    </tr>\n",
       "    <tr>\n",
       "      <th>2</th>\n",
       "      <td>2002-01-04 00:00:00-05:00</td>\n",
       "      <td>0.354244</td>\n",
       "      <td>0.363503</td>\n",
       "      <td>0.348932</td>\n",
       "      <td>0.359556</td>\n",
       "      <td>409976000</td>\n",
       "      <td>0.0</td>\n",
       "      <td>0.0</td>\n",
       "    </tr>\n",
       "    <tr>\n",
       "      <th>3</th>\n",
       "      <td>2002-01-07 00:00:00-05:00</td>\n",
       "      <td>0.360011</td>\n",
       "      <td>0.364261</td>\n",
       "      <td>0.345289</td>\n",
       "      <td>0.347566</td>\n",
       "      <td>444584000</td>\n",
       "      <td>0.0</td>\n",
       "      <td>0.0</td>\n",
       "    </tr>\n",
       "    <tr>\n",
       "      <th>4</th>\n",
       "      <td>2002-01-08 00:00:00-05:00</td>\n",
       "      <td>0.345289</td>\n",
       "      <td>0.349842</td>\n",
       "      <td>0.340887</td>\n",
       "      <td>0.343164</td>\n",
       "      <td>450038400</td>\n",
       "      <td>0.0</td>\n",
       "      <td>0.0</td>\n",
       "    </tr>\n",
       "    <tr>\n",
       "      <th>...</th>\n",
       "      <td>...</td>\n",
       "      <td>...</td>\n",
       "      <td>...</td>\n",
       "      <td>...</td>\n",
       "      <td>...</td>\n",
       "      <td>...</td>\n",
       "      <td>...</td>\n",
       "      <td>...</td>\n",
       "    </tr>\n",
       "    <tr>\n",
       "      <th>5282</th>\n",
       "      <td>2022-12-23 00:00:00-05:00</td>\n",
       "      <td>130.539854</td>\n",
       "      <td>132.035499</td>\n",
       "      <td>129.263572</td>\n",
       "      <td>131.477127</td>\n",
       "      <td>63814900</td>\n",
       "      <td>0.0</td>\n",
       "      <td>0.0</td>\n",
       "    </tr>\n",
       "    <tr>\n",
       "      <th>5283</th>\n",
       "      <td>2022-12-27 00:00:00-05:00</td>\n",
       "      <td>130.998521</td>\n",
       "      <td>131.028433</td>\n",
       "      <td>128.346242</td>\n",
       "      <td>129.652435</td>\n",
       "      <td>69007800</td>\n",
       "      <td>0.0</td>\n",
       "      <td>0.0</td>\n",
       "    </tr>\n",
       "    <tr>\n",
       "      <th>5284</th>\n",
       "      <td>2022-12-28 00:00:00-05:00</td>\n",
       "      <td>129.293476</td>\n",
       "      <td>130.649527</td>\n",
       "      <td>125.504514</td>\n",
       "      <td>125.674019</td>\n",
       "      <td>85438400</td>\n",
       "      <td>0.0</td>\n",
       "      <td>0.0</td>\n",
       "    </tr>\n",
       "    <tr>\n",
       "      <th>5285</th>\n",
       "      <td>2022-12-29 00:00:00-05:00</td>\n",
       "      <td>127.618359</td>\n",
       "      <td>130.101127</td>\n",
       "      <td>127.359119</td>\n",
       "      <td>129.233658</td>\n",
       "      <td>75703700</td>\n",
       "      <td>0.0</td>\n",
       "      <td>0.0</td>\n",
       "    </tr>\n",
       "    <tr>\n",
       "      <th>5286</th>\n",
       "      <td>2022-12-30 00:00:00-05:00</td>\n",
       "      <td>128.037144</td>\n",
       "      <td>129.572665</td>\n",
       "      <td>127.059986</td>\n",
       "      <td>129.552719</td>\n",
       "      <td>77034200</td>\n",
       "      <td>0.0</td>\n",
       "      <td>0.0</td>\n",
       "    </tr>\n",
       "  </tbody>\n",
       "</table>\n",
       "<p>5287 rows × 8 columns</p>\n",
       "</div>"
      ],
      "text/plain": [
       "                          Date        Open        High         Low  \\\n",
       "0    2002-01-02 00:00:00-05:00    0.334665    0.353637    0.333299   \n",
       "1    2002-01-03 00:00:00-05:00    0.349083    0.360467    0.345593   \n",
       "2    2002-01-04 00:00:00-05:00    0.354244    0.363503    0.348932   \n",
       "3    2002-01-07 00:00:00-05:00    0.360011    0.364261    0.345289   \n",
       "4    2002-01-08 00:00:00-05:00    0.345289    0.349842    0.340887   \n",
       "...                        ...         ...         ...         ...   \n",
       "5282 2022-12-23 00:00:00-05:00  130.539854  132.035499  129.263572   \n",
       "5283 2022-12-27 00:00:00-05:00  130.998521  131.028433  128.346242   \n",
       "5284 2022-12-28 00:00:00-05:00  129.293476  130.649527  125.504514   \n",
       "5285 2022-12-29 00:00:00-05:00  127.618359  130.101127  127.359119   \n",
       "5286 2022-12-30 00:00:00-05:00  128.037144  129.572665  127.059986   \n",
       "\n",
       "           Close     Volume  Dividends  Stock Splits  \n",
       "0       0.353637  529496800        0.0           0.0  \n",
       "1       0.357886  612007200        0.0           0.0  \n",
       "2       0.359556  409976000        0.0           0.0  \n",
       "3       0.347566  444584000        0.0           0.0  \n",
       "4       0.343164  450038400        0.0           0.0  \n",
       "...          ...        ...        ...           ...  \n",
       "5282  131.477127   63814900        0.0           0.0  \n",
       "5283  129.652435   69007800        0.0           0.0  \n",
       "5284  125.674019   85438400        0.0           0.0  \n",
       "5285  129.233658   75703700        0.0           0.0  \n",
       "5286  129.552719   77034200        0.0           0.0  \n",
       "\n",
       "[5287 rows x 8 columns]"
      ]
     },
     "execution_count": 8,
     "metadata": {},
     "output_type": "execute_result"
    }
   ],
   "source": [
    "df.reset_index()"
   ]
  },
  {
   "cell_type": "code",
   "execution_count": 9,
   "id": "17e9757a",
   "metadata": {},
   "outputs": [
    {
     "data": {
      "text/html": [
       "<div>\n",
       "<style scoped>\n",
       "    .dataframe tbody tr th:only-of-type {\n",
       "        vertical-align: middle;\n",
       "    }\n",
       "\n",
       "    .dataframe tbody tr th {\n",
       "        vertical-align: top;\n",
       "    }\n",
       "\n",
       "    .dataframe thead th {\n",
       "        text-align: right;\n",
       "    }\n",
       "</style>\n",
       "<table border=\"1\" class=\"dataframe\">\n",
       "  <thead>\n",
       "    <tr style=\"text-align: right;\">\n",
       "      <th></th>\n",
       "      <th>Open</th>\n",
       "      <th>High</th>\n",
       "      <th>Low</th>\n",
       "      <th>Close</th>\n",
       "      <th>Volume</th>\n",
       "    </tr>\n",
       "    <tr>\n",
       "      <th>Date</th>\n",
       "      <th></th>\n",
       "      <th></th>\n",
       "      <th></th>\n",
       "      <th></th>\n",
       "      <th></th>\n",
       "    </tr>\n",
       "  </thead>\n",
       "  <tbody>\n",
       "    <tr>\n",
       "      <th>2002-01-02 00:00:00-05:00</th>\n",
       "      <td>0.334665</td>\n",
       "      <td>0.353637</td>\n",
       "      <td>0.333299</td>\n",
       "      <td>0.353637</td>\n",
       "      <td>529496800</td>\n",
       "    </tr>\n",
       "    <tr>\n",
       "      <th>2002-01-03 00:00:00-05:00</th>\n",
       "      <td>0.349083</td>\n",
       "      <td>0.360467</td>\n",
       "      <td>0.345593</td>\n",
       "      <td>0.357886</td>\n",
       "      <td>612007200</td>\n",
       "    </tr>\n",
       "    <tr>\n",
       "      <th>2002-01-04 00:00:00-05:00</th>\n",
       "      <td>0.354244</td>\n",
       "      <td>0.363503</td>\n",
       "      <td>0.348932</td>\n",
       "      <td>0.359556</td>\n",
       "      <td>409976000</td>\n",
       "    </tr>\n",
       "    <tr>\n",
       "      <th>2002-01-07 00:00:00-05:00</th>\n",
       "      <td>0.360011</td>\n",
       "      <td>0.364261</td>\n",
       "      <td>0.345289</td>\n",
       "      <td>0.347566</td>\n",
       "      <td>444584000</td>\n",
       "    </tr>\n",
       "    <tr>\n",
       "      <th>2002-01-08 00:00:00-05:00</th>\n",
       "      <td>0.345289</td>\n",
       "      <td>0.349842</td>\n",
       "      <td>0.340887</td>\n",
       "      <td>0.343164</td>\n",
       "      <td>450038400</td>\n",
       "    </tr>\n",
       "  </tbody>\n",
       "</table>\n",
       "</div>"
      ],
      "text/plain": [
       "                               Open      High       Low     Close     Volume\n",
       "Date                                                                        \n",
       "2002-01-02 00:00:00-05:00  0.334665  0.353637  0.333299  0.353637  529496800\n",
       "2002-01-03 00:00:00-05:00  0.349083  0.360467  0.345593  0.357886  612007200\n",
       "2002-01-04 00:00:00-05:00  0.354244  0.363503  0.348932  0.359556  409976000\n",
       "2002-01-07 00:00:00-05:00  0.360011  0.364261  0.345289  0.347566  444584000\n",
       "2002-01-08 00:00:00-05:00  0.345289  0.349842  0.340887  0.343164  450038400"
      ]
     },
     "execution_count": 9,
     "metadata": {},
     "output_type": "execute_result"
    }
   ],
   "source": [
    "df = df.drop(['Dividends', 'Stock Splits'], axis = 1)\n",
    "df.head()"
   ]
  },
  {
   "cell_type": "code",
   "execution_count": 10,
   "id": "4c8740fe",
   "metadata": {},
   "outputs": [],
   "source": [
    "df.reset_index(drop=True, inplace=True)"
   ]
  },
  {
   "cell_type": "code",
   "execution_count": 11,
   "id": "d25e8d84",
   "metadata": {},
   "outputs": [
    {
     "data": {
      "text/html": [
       "<div>\n",
       "<style scoped>\n",
       "    .dataframe tbody tr th:only-of-type {\n",
       "        vertical-align: middle;\n",
       "    }\n",
       "\n",
       "    .dataframe tbody tr th {\n",
       "        vertical-align: top;\n",
       "    }\n",
       "\n",
       "    .dataframe thead th {\n",
       "        text-align: right;\n",
       "    }\n",
       "</style>\n",
       "<table border=\"1\" class=\"dataframe\">\n",
       "  <thead>\n",
       "    <tr style=\"text-align: right;\">\n",
       "      <th></th>\n",
       "      <th>Open</th>\n",
       "      <th>High</th>\n",
       "      <th>Low</th>\n",
       "      <th>Close</th>\n",
       "      <th>Volume</th>\n",
       "    </tr>\n",
       "  </thead>\n",
       "  <tbody>\n",
       "    <tr>\n",
       "      <th>0</th>\n",
       "      <td>0.334665</td>\n",
       "      <td>0.353637</td>\n",
       "      <td>0.333299</td>\n",
       "      <td>0.353637</td>\n",
       "      <td>529496800</td>\n",
       "    </tr>\n",
       "    <tr>\n",
       "      <th>1</th>\n",
       "      <td>0.349083</td>\n",
       "      <td>0.360467</td>\n",
       "      <td>0.345593</td>\n",
       "      <td>0.357886</td>\n",
       "      <td>612007200</td>\n",
       "    </tr>\n",
       "    <tr>\n",
       "      <th>2</th>\n",
       "      <td>0.354244</td>\n",
       "      <td>0.363503</td>\n",
       "      <td>0.348932</td>\n",
       "      <td>0.359556</td>\n",
       "      <td>409976000</td>\n",
       "    </tr>\n",
       "    <tr>\n",
       "      <th>3</th>\n",
       "      <td>0.360011</td>\n",
       "      <td>0.364261</td>\n",
       "      <td>0.345289</td>\n",
       "      <td>0.347566</td>\n",
       "      <td>444584000</td>\n",
       "    </tr>\n",
       "    <tr>\n",
       "      <th>4</th>\n",
       "      <td>0.345289</td>\n",
       "      <td>0.349842</td>\n",
       "      <td>0.340887</td>\n",
       "      <td>0.343164</td>\n",
       "      <td>450038400</td>\n",
       "    </tr>\n",
       "  </tbody>\n",
       "</table>\n",
       "</div>"
      ],
      "text/plain": [
       "       Open      High       Low     Close     Volume\n",
       "0  0.334665  0.353637  0.333299  0.353637  529496800\n",
       "1  0.349083  0.360467  0.345593  0.357886  612007200\n",
       "2  0.354244  0.363503  0.348932  0.359556  409976000\n",
       "3  0.360011  0.364261  0.345289  0.347566  444584000\n",
       "4  0.345289  0.349842  0.340887  0.343164  450038400"
      ]
     },
     "execution_count": 11,
     "metadata": {},
     "output_type": "execute_result"
    }
   ],
   "source": [
    "df.head()"
   ]
  },
  {
   "cell_type": "code",
   "execution_count": 12,
   "id": "7882cc12",
   "metadata": {},
   "outputs": [
    {
     "data": {
      "text/plain": [
       "[<matplotlib.lines.Line2D at 0x1f8268cc070>]"
      ]
     },
     "execution_count": 12,
     "metadata": {},
     "output_type": "execute_result"
    },
    {
     "data": {
      "image/png": "[encoded data removed]",
      "text/plain": [
       "<Figure size 640x480 with 1 Axes>"
      ]
     },
     "metadata": {},
     "output_type": "display_data"
    }
   ],
   "source": [
    "plt.plot(df.Close)"
   ]
  },
  {
   "cell_type": "code",
   "execution_count": 13,
   "id": "719614d9",
   "metadata": {},
   "outputs": [
    {
     "data": {
      "text/plain": [
       "0              NaN\n",
       "1              NaN\n",
       "2              NaN\n",
       "3              NaN\n",
       "4              NaN\n",
       "           ...    \n",
       "5282    149.910410\n",
       "5283    149.558677\n",
       "5284    149.169449\n",
       "5285    148.820595\n",
       "5286    148.474434\n",
       "Name: Close, Length: 5287, dtype: float64"
      ]
     },
     "execution_count": 13,
     "metadata": {},
     "output_type": "execute_result"
    }
   ],
   "source": [
    "ma100 = df.Close.rolling(100).mean()\n",
    "ma100"
   ]
  },
  {
   "cell_type": "code",
   "execution_count": 14,
   "id": "67e45728",
   "metadata": {},
   "outputs": [
    {
     "data": {
      "text/plain": [
       "[<matplotlib.lines.Line2D at 0x1f826a0a140>]"
      ]
     },
     "execution_count": 14,
     "metadata": {},
     "output_type": "execute_result"
    },
    {
     "data": {
      "image/png": "[encoded data removed]",
      "text/plain": [
       "<Figure size 1200x600 with 1 Axes>"
      ]
     },
     "metadata": {},
     "output_type": "display_data"
    }
   ],
   "source": [
    "plt.figure(figsize = (12,6))\n",
    "plt.plot(df.Close)\n",
    "plt.plot(ma100, 'g')"
   ]
  },
  {
   "cell_type": "code",
   "execution_count": 15,
   "id": "92005041",
   "metadata": {},
   "outputs": [
    {
     "data": {
      "text/plain": [
       "[<matplotlib.lines.Line2D at 0x1f826aa93c0>]"
      ]
     },
     "execution_count": 15,
     "metadata": {},
     "output_type": "execute_result"
    },
    {
     "data": {
      "image/png": "[encoded data removed]",
      "text/plain": [
       "<Figure size 1200x600 with 1 Axes>"
      ]
     },
     "metadata": {},
     "output_type": "display_data"
    }
   ],
   "source": [
    "ma200 = df.Close.rolling(200).mean()\n",
    "plt.figure(figsize = (12, 6))\n",
    "plt.plot(df.Close)\n",
    "plt.plot(ma100, 'g')\n",
    "plt.plot(ma200, 'r')"
   ]
  },
  {
   "cell_type": "code",
   "execution_count": 16,
   "id": "fe3dffb7",
   "metadata": {},
   "outputs": [
    {
     "data": {
      "text/plain": [
       "(5287, 5)"
      ]
     },
     "execution_count": 16,
     "metadata": {},
     "output_type": "execute_result"
    }
   ],
   "source": [
    "df.shape"
   ]
  },
  {
   "cell_type": "code",
   "execution_count": 17,
   "id": "147c82ec",
   "metadata": {},
   "outputs": [
    {
     "name": "stdout",
     "output_type": "stream",
     "text": [
      "(3700, 1)\n",
      "(1587, 1)\n"
     ]
    }
   ],
   "source": [
    "# Splitting data into training and testing\n",
    "data_training = pd.DataFrame(df['Close'][0:int(len(df)*0.70)])\n",
    "data_testing = pd.DataFrame(df['Close'][int(len(df)*0.70): int(len(df))])\n",
    "print(data_training.shape)\n",
    "print(data_testing.shape)"
   ]
  },
  {
   "cell_type": "code",
   "execution_count": 18,
   "id": "8f745d8b",
   "metadata": {},
   "outputs": [],
   "source": [
    "from sklearn.preprocessing import MinMaxScaler\n",
    "scaler = MinMaxScaler(feature_range=(0,1))"
   ]
  },
  {
   "cell_type": "code",
   "execution_count": 19,
   "id": "e8285bc0",
   "metadata": {},
   "outputs": [
    {
     "data": {
      "text/plain": [
       "array([[0.00518782],\n",
       "       [0.0053305 ],\n",
       "       [0.00538658],\n",
       "       ...,\n",
       "       [0.81561537],\n",
       "       [0.79699058],\n",
       "       [0.81499211]])"
      ]
     },
     "execution_count": 19,
     "metadata": {},
     "output_type": "execute_result"
    }
   ],
   "source": [
    "data_training_array = scaler.fit_transform(data_training)\n",
    "data_training_array"
   ]
  },
  {
   "cell_type": "code",
   "execution_count": 20,
   "id": "349b4c71",
   "metadata": {},
   "outputs": [],
   "source": [
    "x_train = []\n",
    "y_train = []\n",
    "\n",
    "for i in range(100, data_training_array.shape[0]):\n",
    "    x_train.append(data_training_array[i-100: i])\n",
    "    y_train.append(data_training_array[i, 0])\n",
    "    \n",
    "x_train, y_train = np.array(x_train), np.array(y_train)"
   ]
  },
  {
   "cell_type": "code",
   "execution_count": 21,
   "id": "7647899f",
   "metadata": {},
   "outputs": [],
   "source": [
    "# ML Model"
   ]
  },
  {
   "cell_type": "code",
   "execution_count": 22,
   "id": "5c98bc32",
   "metadata": {},
   "outputs": [],
   "source": [
    "from keras.layers import Dense, Dropout, LSTM\n",
    "from keras.models import Sequential"
   ]
  },
  {
   "cell_type": "code",
   "execution_count": 23,
   "id": "d40ffc70",
   "metadata": {},
   "outputs": [],
   "source": [
    "model = Sequential()\n",
    "model.add(LSTM(units = 50, activation = 'relu', return_sequences = True, input_shape = (x_train.shape[1], 1)))\n",
    "model.add(Dropout(0.2))\n",
    "\n",
    "model.add(LSTM(units = 60, activation = 'relu', return_sequences = True))\n",
    "model.add(Dropout(0.3))\n",
    "\n",
    "model.add(LSTM(units = 80, activation = 'relu', return_sequences = True))\n",
    "model.add(Dropout(0.4))\n",
    "\n",
    "model.add(LSTM(units = 120, activation = 'relu'))\n",
    "model.add(Dropout(0.5))\n",
    "          \n",
    "model.add(Dense(units = 1))"
   ]
  },
  {
   "cell_type": "code",
   "execution_count": 24,
   "id": "fb683463",
   "metadata": {},
   "outputs": [
    {
     "name": "stdout",
     "output_type": "stream",
     "text": [
      "Model: \"sequential_1\"\n",
      "_________________________________________________________________\n",
      " Layer (type)                Output Shape              Param #   \n",
      "=================================================================\n",
      " lstm (LSTM)                 (None, 100, 50)           10400     \n",
      "                                                                 \n",
      " dropout (Dropout)           (None, 100, 50)           0         \n",
      "                                                                 \n",
      " lstm_1 (LSTM)               (None, 100, 60)           26640     \n",
      "                                                                 \n",
      " dropout_1 (Dropout)         (None, 100, 60)           0         \n",
      "                                                                 \n",
      " lstm_2 (LSTM)               (None, 100, 80)           45120     \n",
      "                                                                 \n",
      " dropout_2 (Dropout)         (None, 100, 80)           0         \n",
      "                                                                 \n",
      " lstm_3 (LSTM)               (None, 120)               96480     \n",
      "                                                                 \n",
      " dropout_3 (Dropout)         (None, 120)               0         \n",
      "                                                                 \n",
      " dense (Dense)               (None, 1)                 121       \n",
      "                                                                 \n",
      "=================================================================\n",
      "Total params: 178,761\n",
      "Trainable params: 178,761\n",
      "Non-trainable params: 0\n",
      "_________________________________________________________________\n"
     ]
    }
   ],
   "source": [
    "model.summary()"
   ]
  },
  {
   "cell_type": "code",
   "execution_count": 25,
   "id": "c416fdcb",
   "metadata": {},
   "outputs": [
    {
     "name": "stdout",
     "output_type": "stream",
     "text": [
      "Epoch 1/100\n",
      "113/113 [==============================] - 21s 156ms/step - loss: 0.0187\n",
      "Epoch 2/100\n",
      "113/113 [==============================] - 36s 321ms/step - loss: 0.0059\n",
      "Epoch 3/100\n",
      "113/113 [==============================] - 40s 351ms/step - loss: 0.0052\n",
      "Epoch 4/100\n",
      "113/113 [==============================] - 40s 351ms/step - loss: 0.0042\n",
      "Epoch 5/100\n",
      "113/113 [==============================] - 38s 336ms/step - loss: 0.0043\n",
      "Epoch 6/100\n",
      "113/113 [==============================] - 40s 358ms/step - loss: 0.0039\n",
      "Epoch 7/100\n",
      "113/113 [==============================] - 40s 350ms/step - loss: 0.0039\n",
      "Epoch 8/100\n",
      "113/113 [==============================] - 39s 344ms/step - loss: 0.0040\n",
      "Epoch 9/100\n",
      "113/113 [==============================] - 40s 351ms/step - loss: 0.0038\n",
      "Epoch 10/100\n",
      "113/113 [==============================] - 38s 340ms/step - loss: 0.0037\n",
      "Epoch 11/100\n",
      "113/113 [==============================] - 36s 319ms/step - loss: 0.0034\n",
      "Epoch 12/100\n",
      "113/113 [==============================] - 40s 353ms/step - loss: 0.0033\n",
      "Epoch 13/100\n",
      "113/113 [==============================] - 40s 350ms/step - loss: 0.0033\n",
      "Epoch 14/100\n",
      "113/113 [==============================] - 40s 355ms/step - loss: 0.0035\n",
      "Epoch 15/100\n",
      "113/113 [==============================] - 41s 361ms/step - loss: 0.0030\n",
      "Epoch 16/100\n",
      "113/113 [==============================] - 40s 355ms/step - loss: 0.0033\n",
      "Epoch 17/100\n",
      "113/113 [==============================] - 39s 349ms/step - loss: 0.0030\n",
      "Epoch 18/100\n",
      "113/113 [==============================] - 39s 343ms/step - loss: 0.0028\n",
      "Epoch 19/100\n",
      "113/113 [==============================] - 40s 350ms/step - loss: 0.0031\n",
      "Epoch 20/100\n",
      "113/113 [==============================] - 40s 354ms/step - loss: 0.0032\n",
      "Epoch 21/100\n",
      "113/113 [==============================] - 40s 358ms/step - loss: 0.0031\n",
      "Epoch 22/100\n",
      "113/113 [==============================] - 39s 347ms/step - loss: 0.0030\n",
      "Epoch 23/100\n",
      "113/113 [==============================] - 40s 356ms/step - loss: 0.0030\n",
      "Epoch 24/100\n",
      "113/113 [==============================] - 40s 352ms/step - loss: 0.0028\n",
      "Epoch 25/100\n",
      "113/113 [==============================] - 41s 358ms/step - loss: 0.0027\n",
      "Epoch 26/100\n",
      "113/113 [==============================] - 39s 346ms/step - loss: 0.0031\n",
      "Epoch 27/100\n",
      "113/113 [==============================] - 41s 362ms/step - loss: 0.0029\n",
      "Epoch 28/100\n",
      "113/113 [==============================] - 40s 356ms/step - loss: 0.0029\n",
      "Epoch 29/100\n",
      "113/113 [==============================] - 39s 343ms/step - loss: 0.0028\n",
      "Epoch 30/100\n",
      "113/113 [==============================] - 39s 347ms/step - loss: 0.0028\n",
      "Epoch 31/100\n",
      "113/113 [==============================] - 39s 350ms/step - loss: 0.0025\n",
      "Epoch 32/100\n",
      "113/113 [==============================] - 41s 366ms/step - loss: 0.0027\n",
      "Epoch 33/100\n",
      "113/113 [==============================] - 39s 347ms/step - loss: 0.0028\n",
      "Epoch 34/100\n",
      "113/113 [==============================] - 41s 364ms/step - loss: 0.0027\n",
      "Epoch 35/100\n",
      "113/113 [==============================] - 41s 367ms/step - loss: 0.0026\n",
      "Epoch 36/100\n",
      "113/113 [==============================] - 41s 360ms/step - loss: 0.0025\n",
      "Epoch 37/100\n",
      "113/113 [==============================] - 42s 371ms/step - loss: 0.0026\n",
      "Epoch 38/100\n",
      "113/113 [==============================] - 40s 358ms/step - loss: 0.0026\n",
      "Epoch 39/100\n",
      "113/113 [==============================] - 41s 366ms/step - loss: 0.0027\n",
      "Epoch 40/100\n",
      "113/113 [==============================] - 40s 358ms/step - loss: 0.0024\n",
      "Epoch 41/100\n",
      "113/113 [==============================] - 43s 378ms/step - loss: 0.0025\n",
      "Epoch 42/100\n",
      "113/113 [==============================] - 38s 338ms/step - loss: 0.0026\n",
      "Epoch 43/100\n",
      "113/113 [==============================] - 40s 349ms/step - loss: 0.0025\n",
      "Epoch 44/100\n",
      "113/113 [==============================] - 40s 358ms/step - loss: 0.0025\n",
      "Epoch 45/100\n",
      "113/113 [==============================] - 41s 359ms/step - loss: 0.0025\n",
      "Epoch 46/100\n",
      "113/113 [==============================] - 39s 344ms/step - loss: 0.0024\n",
      "Epoch 47/100\n",
      "113/113 [==============================] - 42s 370ms/step - loss: 0.0025\n",
      "Epoch 48/100\n",
      "113/113 [==============================] - 41s 361ms/step - loss: 0.0025\n",
      "Epoch 49/100\n",
      "113/113 [==============================] - 41s 364ms/step - loss: 0.0024\n",
      "Epoch 50/100\n",
      "113/113 [==============================] - 41s 360ms/step - loss: 0.0025\n",
      "Epoch 51/100\n",
      "113/113 [==============================] - 40s 351ms/step - loss: 0.0027\n",
      "Epoch 52/100\n",
      "113/113 [==============================] - 41s 358ms/step - loss: 0.0023\n",
      "Epoch 53/100\n",
      "113/113 [==============================] - 40s 351ms/step - loss: 0.0024\n",
      "Epoch 54/100\n",
      "113/113 [==============================] - 42s 374ms/step - loss: 0.0024\n",
      "Epoch 55/100\n",
      "113/113 [==============================] - 40s 353ms/step - loss: 0.0023\n",
      "Epoch 56/100\n",
      "113/113 [==============================] - 41s 366ms/step - loss: 0.0024\n",
      "Epoch 57/100\n",
      "113/113 [==============================] - 39s 349ms/step - loss: 0.0022\n",
      "Epoch 58/100\n",
      "113/113 [==============================] - 41s 365ms/step - loss: 0.0023\n",
      "Epoch 59/100\n",
      "113/113 [==============================] - 41s 361ms/step - loss: 0.0024\n",
      "Epoch 60/100\n",
      "113/113 [==============================] - 41s 361ms/step - loss: 0.0024\n",
      "Epoch 61/100\n",
      "113/113 [==============================] - 42s 369ms/step - loss: 0.0023\n",
      "Epoch 62/100\n",
      "113/113 [==============================] - 41s 362ms/step - loss: 0.0025\n",
      "Epoch 63/100\n",
      "113/113 [==============================] - 39s 346ms/step - loss: 0.0024\n",
      "Epoch 64/100\n",
      "113/113 [==============================] - 39s 349ms/step - loss: 0.0023\n",
      "Epoch 65/100\n",
      "113/113 [==============================] - 41s 359ms/step - loss: 0.0023\n",
      "Epoch 66/100\n",
      "113/113 [==============================] - 40s 350ms/step - loss: 0.0024\n",
      "Epoch 67/100\n",
      "113/113 [==============================] - 42s 368ms/step - loss: 0.0024\n",
      "Epoch 68/100\n",
      "113/113 [==============================] - 40s 354ms/step - loss: 0.0024\n",
      "Epoch 69/100\n",
      "113/113 [==============================] - 40s 353ms/step - loss: 0.0024\n",
      "Epoch 70/100\n",
      "113/113 [==============================] - 37s 326ms/step - loss: 0.0024\n",
      "Epoch 71/100\n",
      "113/113 [==============================] - 39s 344ms/step - loss: 0.0023\n",
      "Epoch 72/100\n",
      "113/113 [==============================] - 40s 358ms/step - loss: 0.0024\n",
      "Epoch 73/100\n",
      "113/113 [==============================] - 41s 364ms/step - loss: 0.0024\n",
      "Epoch 74/100\n",
      "113/113 [==============================] - 41s 357ms/step - loss: 0.0024\n",
      "Epoch 75/100\n",
      "113/113 [==============================] - 43s 378ms/step - loss: 0.0023\n",
      "Epoch 76/100\n",
      "113/113 [==============================] - 41s 363ms/step - loss: 0.0024\n",
      "Epoch 77/100\n",
      "113/113 [==============================] - 42s 369ms/step - loss: 0.0023\n",
      "Epoch 78/100\n",
      "113/113 [==============================] - 38s 334ms/step - loss: 0.0022\n",
      "Epoch 79/100\n",
      "113/113 [==============================] - 41s 366ms/step - loss: 0.0022\n",
      "Epoch 80/100\n",
      "113/113 [==============================] - 39s 349ms/step - loss: 0.0024\n",
      "Epoch 81/100\n",
      "113/113 [==============================] - 40s 350ms/step - loss: 0.0025\n",
      "Epoch 82/100\n",
      "113/113 [==============================] - 40s 353ms/step - loss: 0.0023\n",
      "Epoch 83/100\n",
      "113/113 [==============================] - 31s 274ms/step - loss: 0.0022\n",
      "Epoch 84/100\n",
      "113/113 [==============================] - 19s 170ms/step - loss: 0.0022\n",
      "Epoch 85/100\n",
      "113/113 [==============================] - 19s 168ms/step - loss: 0.0024\n",
      "Epoch 86/100\n",
      "113/113 [==============================] - 19s 169ms/step - loss: 0.0023\n",
      "Epoch 87/100\n",
      "113/113 [==============================] - 19s 172ms/step - loss: 0.0021\n",
      "Epoch 88/100\n",
      "113/113 [==============================] - 19s 171ms/step - loss: 0.0023\n",
      "Epoch 89/100\n",
      "113/113 [==============================] - 19s 168ms/step - loss: 0.0023\n",
      "Epoch 90/100\n",
      "113/113 [==============================] - 19s 172ms/step - loss: 0.0023\n",
      "Epoch 91/100\n",
      "113/113 [==============================] - 19s 172ms/step - loss: 0.0022\n",
      "Epoch 92/100\n",
      "113/113 [==============================] - 19s 169ms/step - loss: 0.0023\n",
      "Epoch 93/100\n",
      "113/113 [==============================] - 19s 171ms/step - loss: 0.0024\n",
      "Epoch 94/100\n",
      "113/113 [==============================] - 19s 169ms/step - loss: 0.0021\n",
      "Epoch 95/100\n",
      "113/113 [==============================] - 19s 168ms/step - loss: 0.0024\n",
      "Epoch 96/100\n",
      "113/113 [==============================] - 20s 176ms/step - loss: 0.0022\n",
      "Epoch 97/100\n",
      "113/113 [==============================] - 20s 179ms/step - loss: 0.0023\n",
      "Epoch 98/100\n",
      "113/113 [==============================] - 19s 168ms/step - loss: 0.0023\n",
      "Epoch 99/100\n",
      "113/113 [==============================] - 19s 168ms/step - loss: 0.0023\n",
      "Epoch 100/100\n",
      "113/113 [==============================] - 19s 168ms/step - loss: 0.0023\n"
     ]
    },
    {
     "data": {
      "text/plain": [
       "<keras.callbacks.History at 0x1f82980f2b0>"
      ]
     },
     "execution_count": 25,
     "metadata": {},
     "output_type": "execute_result"
    }
   ],
   "source": [
    "model.compile(optimizer='adam', loss = 'mean_squared_error')\n",
    "model.fit(x_train, y_train, epochs = 100)"
   ]
  },
  {
   "cell_type": "code",
   "execution_count": 26,
   "id": "0d3a767c",
   "metadata": {},
   "outputs": [],
   "source": [
    "model.save('keras_model.h5')"
   ]
  },
  {
   "cell_type": "code",
   "execution_count": 27,
   "id": "7c2068e3",
   "metadata": {},
   "outputs": [
    {
     "data": {
      "text/html": [
       "<div>\n",
       "<style scoped>\n",
       "    .dataframe tbody tr th:only-of-type {\n",
       "        vertical-align: middle;\n",
       "    }\n",
       "\n",
       "    .dataframe tbody tr th {\n",
       "        vertical-align: top;\n",
       "    }\n",
       "\n",
       "    .dataframe thead th {\n",
       "        text-align: right;\n",
       "    }\n",
       "</style>\n",
       "<table border=\"1\" class=\"dataframe\">\n",
       "  <thead>\n",
       "    <tr style=\"text-align: right;\">\n",
       "      <th></th>\n",
       "      <th>Close</th>\n",
       "    </tr>\n",
       "  </thead>\n",
       "  <tbody>\n",
       "    <tr>\n",
       "      <th>3700</th>\n",
       "      <td>25.054295</td>\n",
       "    </tr>\n",
       "    <tr>\n",
       "      <th>3701</th>\n",
       "      <td>25.940878</td>\n",
       "    </tr>\n",
       "    <tr>\n",
       "      <th>3702</th>\n",
       "      <td>26.822830</td>\n",
       "    </tr>\n",
       "    <tr>\n",
       "      <th>3703</th>\n",
       "      <td>26.671968</td>\n",
       "    </tr>\n",
       "    <tr>\n",
       "      <th>3704</th>\n",
       "      <td>26.360964</td>\n",
       "    </tr>\n",
       "  </tbody>\n",
       "</table>\n",
       "</div>"
      ],
      "text/plain": [
       "          Close\n",
       "3700  25.054295\n",
       "3701  25.940878\n",
       "3702  26.822830\n",
       "3703  26.671968\n",
       "3704  26.360964"
      ]
     },
     "execution_count": 27,
     "metadata": {},
     "output_type": "execute_result"
    }
   ],
   "source": [
    "data_testing.head()"
   ]
  },
  {
   "cell_type": "code",
   "execution_count": 28,
   "id": "41e6f503",
   "metadata": {},
   "outputs": [
    {
     "data": {
      "text/html": [
       "<div>\n",
       "<style scoped>\n",
       "    .dataframe tbody tr th:only-of-type {\n",
       "        vertical-align: middle;\n",
       "    }\n",
       "\n",
       "    .dataframe tbody tr th {\n",
       "        vertical-align: top;\n",
       "    }\n",
       "\n",
       "    .dataframe thead th {\n",
       "        text-align: right;\n",
       "    }\n",
       "</style>\n",
       "<table border=\"1\" class=\"dataframe\">\n",
       "  <thead>\n",
       "    <tr style=\"text-align: right;\">\n",
       "      <th></th>\n",
       "      <th>Close</th>\n",
       "    </tr>\n",
       "  </thead>\n",
       "  <tbody>\n",
       "    <tr>\n",
       "      <th>3600</th>\n",
       "      <td>24.314201</td>\n",
       "    </tr>\n",
       "    <tr>\n",
       "      <th>3601</th>\n",
       "      <td>24.247663</td>\n",
       "    </tr>\n",
       "    <tr>\n",
       "      <th>3602</th>\n",
       "      <td>24.109985</td>\n",
       "    </tr>\n",
       "    <tr>\n",
       "      <th>3603</th>\n",
       "      <td>23.942495</td>\n",
       "    </tr>\n",
       "    <tr>\n",
       "      <th>3604</th>\n",
       "      <td>22.444225</td>\n",
       "    </tr>\n",
       "    <tr>\n",
       "      <th>...</th>\n",
       "      <td>...</td>\n",
       "    </tr>\n",
       "    <tr>\n",
       "      <th>3695</th>\n",
       "      <td>24.996267</td>\n",
       "    </tr>\n",
       "    <tr>\n",
       "      <th>3696</th>\n",
       "      <td>25.149443</td>\n",
       "    </tr>\n",
       "    <tr>\n",
       "      <th>3697</th>\n",
       "      <td>24.490307</td>\n",
       "    </tr>\n",
       "    <tr>\n",
       "      <th>3698</th>\n",
       "      <td>23.935612</td>\n",
       "    </tr>\n",
       "    <tr>\n",
       "      <th>3699</th>\n",
       "      <td>24.471745</td>\n",
       "    </tr>\n",
       "  </tbody>\n",
       "</table>\n",
       "<p>100 rows × 1 columns</p>\n",
       "</div>"
      ],
      "text/plain": [
       "          Close\n",
       "3600  24.314201\n",
       "3601  24.247663\n",
       "3602  24.109985\n",
       "3603  23.942495\n",
       "3604  22.444225\n",
       "...         ...\n",
       "3695  24.996267\n",
       "3696  25.149443\n",
       "3697  24.490307\n",
       "3698  23.935612\n",
       "3699  24.471745\n",
       "\n",
       "[100 rows x 1 columns]"
      ]
     },
     "execution_count": 28,
     "metadata": {},
     "output_type": "execute_result"
    }
   ],
   "source": [
    "data_training.tail(100)"
   ]
  },
  {
   "cell_type": "code",
   "execution_count": 29,
   "id": "83fa538f",
   "metadata": {},
   "outputs": [],
   "source": [
    "past_100_days = data_training.tail(100)"
   ]
  },
  {
   "cell_type": "code",
   "execution_count": 33,
   "id": "c6b1b736",
   "metadata": {},
   "outputs": [],
   "source": [
    "final_df = pd.concat([past_100_days, data_testing], ignore_index = True)"
   ]
  },
  {
   "cell_type": "code",
   "execution_count": 34,
   "id": "a2352781",
   "metadata": {},
   "outputs": [
    {
     "data": {
      "text/html": [
       "<div>\n",
       "<style scoped>\n",
       "    .dataframe tbody tr th:only-of-type {\n",
       "        vertical-align: middle;\n",
       "    }\n",
       "\n",
       "    .dataframe tbody tr th {\n",
       "        vertical-align: top;\n",
       "    }\n",
       "\n",
       "    .dataframe thead th {\n",
       "        text-align: right;\n",
       "    }\n",
       "</style>\n",
       "<table border=\"1\" class=\"dataframe\">\n",
       "  <thead>\n",
       "    <tr style=\"text-align: right;\">\n",
       "      <th></th>\n",
       "      <th>Close</th>\n",
       "    </tr>\n",
       "  </thead>\n",
       "  <tbody>\n",
       "    <tr>\n",
       "      <th>0</th>\n",
       "      <td>24.314201</td>\n",
       "    </tr>\n",
       "    <tr>\n",
       "      <th>1</th>\n",
       "      <td>24.247663</td>\n",
       "    </tr>\n",
       "    <tr>\n",
       "      <th>2</th>\n",
       "      <td>24.109985</td>\n",
       "    </tr>\n",
       "    <tr>\n",
       "      <th>3</th>\n",
       "      <td>23.942495</td>\n",
       "    </tr>\n",
       "    <tr>\n",
       "      <th>4</th>\n",
       "      <td>22.444225</td>\n",
       "    </tr>\n",
       "  </tbody>\n",
       "</table>\n",
       "</div>"
      ],
      "text/plain": [
       "       Close\n",
       "0  24.314201\n",
       "1  24.247663\n",
       "2  24.109985\n",
       "3  23.942495\n",
       "4  22.444225"
      ]
     },
     "execution_count": 34,
     "metadata": {},
     "output_type": "execute_result"
    }
   ],
   "source": [
    "final_df.head()"
   ]
  },
  {
   "cell_type": "code",
   "execution_count": 35,
   "id": "6bd05753",
   "metadata": {},
   "outputs": [
    {
     "data": {
      "text/plain": [
       "array([[0.02168201],\n",
       "       [0.02126506],\n",
       "       [0.02040231],\n",
       "       ...,\n",
       "       [0.65684774],\n",
       "       [0.67915402],\n",
       "       [0.6811534 ]])"
      ]
     },
     "execution_count": 35,
     "metadata": {},
     "output_type": "execute_result"
    }
   ],
   "source": [
    "input_data = scaler.fit_transform(final_df)\n",
    "input_data"
   ]
  },
  {
   "cell_type": "code",
   "execution_count": 36,
   "id": "b8a1ed7a",
   "metadata": {},
   "outputs": [
    {
     "data": {
      "text/plain": [
       "(1687, 1)"
      ]
     },
     "execution_count": 36,
     "metadata": {},
     "output_type": "execute_result"
    }
   ],
   "source": [
    "input_data.shape"
   ]
  },
  {
   "cell_type": "code",
   "execution_count": 39,
   "id": "ff527bc7",
   "metadata": {},
   "outputs": [
    {
     "name": "stdout",
     "output_type": "stream",
     "text": [
      "(1587, 100, 1)\n",
      "(1587,)\n"
     ]
    }
   ],
   "source": [
    "x_test = []\n",
    "y_test = []\n",
    "\n",
    "for i in range(100, input_data.shape[0]):\n",
    "    x_test.append(input_data[i-100: i])\n",
    "    y_test.append(input_data[i, 0])\n",
    "    \n",
    "x_test, y_test = np.array(x_test), np.array(y_test)\n",
    "print(x_test.shape)\n",
    "print(y_test.shape)"
   ]
  },
  {
   "cell_type": "code",
   "execution_count": 41,
   "id": "17aaa183",
   "metadata": {},
   "outputs": [
    {
     "name": "stdout",
     "output_type": "stream",
     "text": [
      "50/50 [==============================] - 3s 46ms/step\n"
     ]
    }
   ],
   "source": [
    "# Predicting the closing prices\n",
    "\n",
    "y_predicted = model.predict(x_test)"
   ]
  },
  {
   "cell_type": "code",
   "execution_count": 42,
   "id": "9b6a3553",
   "metadata": {},
   "outputs": [
    {
     "data": {
      "text/plain": [
       "(1587, 1)"
      ]
     },
     "execution_count": 42,
     "metadata": {},
     "output_type": "execute_result"
    }
   ],
   "source": [
    "y_predicted.shape"
   ]
  },
  {
   "cell_type": "code",
   "execution_count": 43,
   "id": "6de2e283",
   "metadata": {},
   "outputs": [
    {
     "data": {
      "text/plain": [
       "array([0.02631977, 0.03187549, 0.0374022 , ..., 0.65684774, 0.67915402,\n",
       "       0.6811534 ])"
      ]
     },
     "execution_count": 43,
     "metadata": {},
     "output_type": "execute_result"
    }
   ],
   "source": [
    "y_test"
   ]
  },
  {
   "cell_type": "code",
   "execution_count": 44,
   "id": "07690f5e",
   "metadata": {},
   "outputs": [
    {
     "data": {
      "text/plain": [
       "array([[0.06383528],\n",
       "       [0.06392051],\n",
       "       [0.06399544],\n",
       "       ...,\n",
       "       [0.69778913],\n",
       "       [0.69033086],\n",
       "       [0.68363845]], dtype=float32)"
      ]
     },
     "execution_count": 44,
     "metadata": {},
     "output_type": "execute_result"
    }
   ],
   "source": [
    "y_predicted"
   ]
  },
  {
   "cell_type": "code",
   "execution_count": 45,
   "id": "dfca39cf",
   "metadata": {},
   "outputs": [
    {
     "data": {
      "text/plain": [
       "array([0.00626645])"
      ]
     },
     "execution_count": 45,
     "metadata": {},
     "output_type": "execute_result"
    }
   ],
   "source": [
    "scaler.scale_"
   ]
  },
  {
   "cell_type": "code",
   "execution_count": 46,
   "id": "55e5079a",
   "metadata": {},
   "outputs": [],
   "source": [
    "scale_factor = 1 / scaler.scale_\n",
    "y_predicted = y_predicted * scale_factor\n",
    "y_test = y_test * scale_factor"
   ]
  },
  {
   "cell_type": "code",
   "execution_count": 49,
   "id": "4feff10a",
   "metadata": {},
   "outputs": [
    {
     "data": {
      "image/png": "[encoded data removed]",
      "text/plain": [
       "<Figure size 1200x600 with 1 Axes>"
      ]
     },
     "metadata": {},
     "output_type": "display_data"
    }
   ],
   "source": [
    "plt.figure(figsize = (12, 6))\n",
    "plt.plot(y_test, 'b', label = 'Original Price')\n",
    "plt.plot(y_predicted, 'g', label = 'Predicted Price')\n",
    "plt.xlabel('Time')\n",
    "plt.ylabel('Price')\n",
    "plt.legend()\n",
    "plt.show()"
   ]
  },
  {
   "cell_type": "code",
   "execution_count": 50,
   "id": "8a2c785d",
   "metadata": {},
   "outputs": [
    {
     "name": "stdout",
     "output_type": "stream",
     "text": [
      "Defaulting to user installation because normal site-packages is not writeable\n",
      "Collecting streamlit\n",
      "  Downloading streamlit-1.23.1-py2.py3-none-any.whl (8.9 MB)\n",
      "     ---------------------------------------- 8.9/8.9 MB 4.4 MB/s eta 0:00:00\n",
      "Collecting tzlocal<5,>=1.1\n",
      "  Downloading tzlocal-4.3-py3-none-any.whl (20 kB)\n",
      "Collecting rich<14,>=10.11.0\n",
      "  Downloading rich-13.4.2-py3-none-any.whl (239 kB)\n",
      "     -------------------------------------- 239.4/239.4 kB 2.9 MB/s eta 0:00:00\n",
      "Requirement already satisfied: pandas<3,>=0.25 in c:\\programdata\\anaconda3\\lib\\site-packages (from streamlit) (1.5.3)\n",
      "Collecting altair<6,>=4.0\n",
      "  Downloading altair-5.0.1-py3-none-any.whl (471 kB)\n",
      "     -------------------------------------- 471.5/471.5 kB 3.7 MB/s eta 0:00:00\n",
      "Requirement already satisfied: numpy<2,>=1 in c:\\programdata\\anaconda3\\lib\\site-packages (from streamlit) (1.23.5)\n",
      "Collecting blinker<2,>=1.0.0\n",
      "  Downloading blinker-1.6.2-py3-none-any.whl (13 kB)\n",
      "Requirement already satisfied: packaging<24,>=14.1 in c:\\programdata\\anaconda3\\lib\\site-packages (from streamlit) (22.0)\n",
      "Requirement already satisfied: toml<2 in c:\\programdata\\anaconda3\\lib\\site-packages (from streamlit) (0.10.2)\n",
      "Requirement already satisfied: typing-extensions<5,>=4.0.1 in c:\\programdata\\anaconda3\\lib\\site-packages (from streamlit) (4.4.0)\n",
      "Collecting gitpython!=3.1.19,<4,>=3\n",
      "  Downloading GitPython-3.1.31-py3-none-any.whl (184 kB)\n",
      "     -------------------------------------- 184.3/184.3 kB 2.8 MB/s eta 0:00:00\n",
      "Collecting pympler<2,>=0.9\n",
      "  Downloading Pympler-1.0.1-py3-none-any.whl (164 kB)\n",
      "     -------------------------------------- 164.8/164.8 kB 3.3 MB/s eta 0:00:00\n",
      "Requirement already satisfied: watchdog in c:\\programdata\\anaconda3\\lib\\site-packages (from streamlit) (2.1.6)\n",
      "Requirement already satisfied: requests<3,>=2.4 in c:\\programdata\\anaconda3\\lib\\site-packages (from streamlit) (2.28.1)\n",
      "Requirement already satisfied: python-dateutil<3,>=2 in c:\\programdata\\anaconda3\\lib\\site-packages (from streamlit) (2.8.2)\n",
      "Requirement already satisfied: cachetools<6,>=4.0 in c:\\users\\saptarshi pramanik\\appdata\\roaming\\python\\python310\\site-packages (from streamlit) (5.3.1)\n",
      "Requirement already satisfied: click<9,>=7.0 in c:\\programdata\\anaconda3\\lib\\site-packages (from streamlit) (8.0.4)\n",
      "Requirement already satisfied: importlib-metadata<7,>=1.4 in c:\\programdata\\anaconda3\\lib\\site-packages (from streamlit) (4.11.3)\n",
      "Collecting pydeck<1,>=0.1.dev5\n",
      "  Downloading pydeck-0.8.1b0-py2.py3-none-any.whl (4.8 MB)\n",
      "     ---------------------------------------- 4.8/4.8 MB 3.8 MB/s eta 0:00:00\n",
      "Collecting validators<1,>=0.2\n",
      "  Downloading validators-0.20.0.tar.gz (30 kB)\n",
      "  Preparing metadata (setup.py): started\n",
      "  Preparing metadata (setup.py): finished with status 'done'\n",
      "Requirement already satisfied: protobuf<5,>=3.20 in c:\\users\\saptarshi pramanik\\appdata\\roaming\\python\\python310\\site-packages (from streamlit) (4.23.3)\n",
      "Requirement already satisfied: pillow<10,>=6.2.0 in c:\\programdata\\anaconda3\\lib\\site-packages (from streamlit) (9.4.0)\n",
      "Requirement already satisfied: tornado<7,>=6.0.3 in c:\\programdata\\anaconda3\\lib\\site-packages (from streamlit) (6.1)\n",
      "Requirement already satisfied: tenacity<9,>=8.0.0 in c:\\programdata\\anaconda3\\lib\\site-packages (from streamlit) (8.0.1)\n",
      "Collecting pyarrow>=4.0\n",
      "  Downloading pyarrow-12.0.1-cp310-cp310-win_amd64.whl (21.5 MB)\n",
      "     ---------------------------------------- 21.5/21.5 MB 4.7 MB/s eta 0:00:00\n",
      "Requirement already satisfied: jsonschema>=3.0 in c:\\programdata\\anaconda3\\lib\\site-packages (from altair<6,>=4.0->streamlit) (4.17.3)\n",
      "Requirement already satisfied: toolz in c:\\programdata\\anaconda3\\lib\\site-packages (from altair<6,>=4.0->streamlit) (0.12.0)\n",
      "Requirement already satisfied: jinja2 in c:\\programdata\\anaconda3\\lib\\site-packages (from altair<6,>=4.0->streamlit) (3.1.2)\n",
      "Requirement already satisfied: colorama in c:\\programdata\\anaconda3\\lib\\site-packages (from click<9,>=7.0->streamlit) (0.4.6)\n",
      "Collecting gitdb<5,>=4.0.1\n",
      "  Downloading gitdb-4.0.10-py3-none-any.whl (62 kB)\n",
      "     ---------------------------------------- 62.7/62.7 kB 3.3 MB/s eta 0:00:00\n",
      "Requirement already satisfied: zipp>=0.5 in c:\\programdata\\anaconda3\\lib\\site-packages (from importlib-metadata<7,>=1.4->streamlit) (3.11.0)\n",
      "Requirement already satisfied: pytz>=2020.1 in c:\\programdata\\anaconda3\\lib\\site-packages (from pandas<3,>=0.25->streamlit) (2022.7)\n",
      "Requirement already satisfied: six>=1.5 in c:\\programdata\\anaconda3\\lib\\site-packages (from python-dateutil<3,>=2->streamlit) (1.16.0)\n",
      "Requirement already satisfied: charset-normalizer<3,>=2 in c:\\programdata\\anaconda3\\lib\\site-packages (from requests<3,>=2.4->streamlit) (2.0.4)\n",
      "Requirement already satisfied: idna<4,>=2.5 in c:\\programdata\\anaconda3\\lib\\site-packages (from requests<3,>=2.4->streamlit) (3.4)\n",
      "Requirement already satisfied: urllib3<1.27,>=1.21.1 in c:\\programdata\\anaconda3\\lib\\site-packages (from requests<3,>=2.4->streamlit) (1.26.14)\n",
      "Requirement already satisfied: certifi>=2017.4.17 in c:\\programdata\\anaconda3\\lib\\site-packages (from requests<3,>=2.4->streamlit) (2023.5.7)\n",
      "Collecting markdown-it-py>=2.2.0\n",
      "  Downloading markdown_it_py-3.0.0-py3-none-any.whl (87 kB)\n",
      "     ---------------------------------------- 87.5/87.5 kB 4.8 MB/s eta 0:00:00\n",
      "Collecting pygments<3.0.0,>=2.13.0\n",
      "  Using cached Pygments-2.15.1-py3-none-any.whl (1.1 MB)\n",
      "Collecting pytz-deprecation-shim\n",
      "  Downloading pytz_deprecation_shim-0.1.0.post0-py2.py3-none-any.whl (15 kB)\n",
      "Collecting tzdata\n",
      "  Using cached tzdata-2023.3-py2.py3-none-any.whl (341 kB)\n",
      "Requirement already satisfied: decorator>=3.4.0 in c:\\programdata\\anaconda3\\lib\\site-packages (from validators<1,>=0.2->streamlit) (5.1.1)\n",
      "Collecting smmap<6,>=3.0.1\n",
      "  Downloading smmap-5.0.0-py3-none-any.whl (24 kB)\n",
      "Requirement already satisfied: MarkupSafe>=2.0 in c:\\programdata\\anaconda3\\lib\\site-packages (from jinja2->altair<6,>=4.0->streamlit) (2.1.1)\n",
      "Requirement already satisfied: pyrsistent!=0.17.0,!=0.17.1,!=0.17.2,>=0.14.0 in c:\\programdata\\anaconda3\\lib\\site-packages (from jsonschema>=3.0->altair<6,>=4.0->streamlit) (0.18.0)\n",
      "Requirement already satisfied: attrs>=17.4.0 in c:\\programdata\\anaconda3\\lib\\site-packages (from jsonschema>=3.0->altair<6,>=4.0->streamlit) (22.1.0)\n",
      "Collecting mdurl~=0.1\n",
      "  Downloading mdurl-0.1.2-py3-none-any.whl (10.0 kB)\n",
      "Building wheels for collected packages: validators\n",
      "  Building wheel for validators (setup.py): started\n",
      "  Building wheel for validators (setup.py): finished with status 'done'\n",
      "  Created wheel for validators: filename=validators-0.20.0-py3-none-any.whl size=19591 sha256=026946d0d43508f9efc375ad130ec5c49651455af994302637e4df83f887571f\n",
      "  Stored in directory: c:\\users\\saptarshi pramanik\\appdata\\local\\pip\\cache\\wheels\\2d\\55\\25\\123071088f4e466746cbadc923b1a31e08cea99ea9ef6bb35e\n",
      "Successfully built validators\n",
      "Installing collected packages: validators, tzdata, smmap, pympler, pygments, pyarrow, mdurl, blinker, pytz-deprecation-shim, pydeck, markdown-it-py, gitdb, tzlocal, rich, gitpython, altair, streamlit\n",
      "Successfully installed altair-5.0.1 blinker-1.6.2 gitdb-4.0.10 gitpython-3.1.31 markdown-it-py-3.0.0 mdurl-0.1.2 pyarrow-12.0.1 pydeck-0.8.1b0 pygments-2.15.1 pympler-1.0.1 pytz-deprecation-shim-0.1.0.post0 rich-13.4.2 smmap-5.0.0 streamlit-1.23.1 tzdata-2023.3 tzlocal-4.3 validators-0.20.0\n",
      "Note: you may need to restart the kernel to use updated packages.\n"
     ]
    },
    {
     "name": "stderr",
     "output_type": "stream",
     "text": [
      "  WARNING: The script pygmentize.exe is installed in 'C:\\Users\\Saptarshi Pramanik\\AppData\\Roaming\\Python\\Python310\\Scripts' which is not on PATH.\n",
      "  Consider adding this directory to PATH or, if you prefer to suppress this warning, use --no-warn-script-location.\n",
      "  WARNING: The script markdown-it.exe is installed in 'C:\\Users\\Saptarshi Pramanik\\AppData\\Roaming\\Python\\Python310\\Scripts' which is not on PATH.\n",
      "  Consider adding this directory to PATH or, if you prefer to suppress this warning, use --no-warn-script-location.\n",
      "  WARNING: The script streamlit.exe is installed in 'C:\\Users\\Saptarshi Pramanik\\AppData\\Roaming\\Python\\Python310\\Scripts' which is not on PATH.\n",
      "  Consider adding this directory to PATH or, if you prefer to suppress this warning, use --no-warn-script-location.\n"
     ]
    }
   ],
   "source": [
    "pip install streamlit"
   ]
  },
  {
   "cell_type": "code",
   "execution_count": null,
   "id": "8282739e",
   "metadata": {},
   "outputs": [],
   "source": []
  }
 ],
 "metadata": {
  "kernelspec": {
   "display_name": "Python 3 (ipykernel)",
   "language": "python",
   "name": "python3"
  },
  "language_info": {
   "codemirror_mode": {
    "name": "ipython",
    "version": 3
   },
   "file_extension": ".py",
   "mimetype": "text/x-python",
   "name": "python",
   "nbconvert_exporter": "python",
   "pygments_lexer": "ipython3",
   "version": "3.10.9"
  }
 },
 "nbformat": 4,
 "nbformat_minor": 5
}
